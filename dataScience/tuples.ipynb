{
 "cells": [
  {
   "cell_type": "code",
   "execution_count": 7,
   "id": "e1eacbff-20a5-402b-96e5-d562fd91be13",
   "metadata": {},
   "outputs": [
    {
     "name": "stdout",
     "output_type": "stream",
     "text": [
      "<class 'tuple'>\n",
      "<class 'tuple'>\n",
      "<class 'tuple'>\n",
      "((1, 2, 3, 4), (5, 6, 7, 8))\n",
      "((5, 6, 7, 8),)\n",
      "()\n"
     ]
    }
   ],
   "source": [
    "tup1=(1,2,3,4)\n",
    "tup2=(5,6,7,8)\n",
    "tup3=(tup1,tup2)\n",
    "print(type(tup1))\n",
    "print(type(tup2))\n",
    "print(type(tup3))\n",
    "print(tup3)\n",
    "print(tup3[1:])\n",
    "print(tup3[2:])"
   ]
  },
  {
   "cell_type": "code",
   "execution_count": 10,
   "id": "2796850d-2748-4bc7-9f74-ba966a89d9e3",
   "metadata": {},
   "outputs": [
    {
     "name": "stdout",
     "output_type": "stream",
     "text": [
      "7\n"
     ]
    }
   ],
   "source": [
    "def adding(a,b):\n",
    "    \n",
    "    sum=a+b\n",
    "    return sum\n",
    "p=adding(3,4)\n",
    "print(p)\n",
    "    "
   ]
  },
  {
   "cell_type": "code",
   "execution_count": 15,
   "id": "c54d74fc-88d8-4f3f-ac56-fc7a0da83420",
   "metadata": {},
   "outputs": [
    {
     "name": "stdout",
     "output_type": "stream",
     "text": [
      "{'lname': 'abc', 'fname': 'xyz', 'age': 22}\n",
      "<class 'dict'>\n"
     ]
    }
   ],
   "source": [
    "def sqrt(**p):\n",
    "    print(p)\n",
    "    print(type(p))\n",
    "sqrt(lname=\"abc\",fname=\"xyz\",age=22)\n"
   ]
  },
  {
   "cell_type": "markdown",
   "id": "238c9802-7f5a-42a5-9de4-eb0a51b6809d",
   "metadata": {},
   "source": []
  },
  {
   "cell_type": "code",
   "execution_count": 17,
   "id": "e13c7329-f9db-400f-86c6-1dbe563c271d",
   "metadata": {},
   "outputs": [
    {
     "name": "stdout",
     "output_type": "stream",
     "text": [
      "('abc', 'xyz', 22)\n",
      "<class 'tuple'>\n"
     ]
    }
   ],
   "source": [
    "def sqrt(*p):\n",
    "    print(p)\n",
    "    print(type(p))\n",
    "sqrt(\"abc\",\"xyz\",22)\n"
   ]
  },
  {
   "cell_type": "code",
   "execution_count": 19,
   "id": "e2e84d08-31b8-4d9e-a0da-e5aa78eab602",
   "metadata": {},
   "outputs": [
    {
     "name": "stdout",
     "output_type": "stream",
     "text": [
      "16\n",
      "6\n"
     ]
    }
   ],
   "source": [
    "x=lambda a: a*a\n",
    "print(x(4))\n",
    "y=lambda a,b,c:a+b+c\n",
    "print(y(1,2,3))"
   ]
  },
  {
   "cell_type": "code",
   "execution_count": 22,
   "id": "8f51b6e6",
   "metadata": {},
   "outputs": [
    {
     "name": "stdout",
     "output_type": "stream",
     "text": [
      "100\n"
     ]
    }
   ],
   "source": [
    "def myf(n):\n",
    "    return lambda a:a*n;\n",
    "d=myf(10)\n",
    "print(d(10))"
   ]
  },
  {
   "cell_type": "code",
   "execution_count": 23,
   "id": "e9368cc6-d08b-4431-b838-f0d9e7904e34",
   "metadata": {},
   "outputs": [
    {
     "name": "stdout",
     "output_type": "stream",
     "text": [
      "[1, 2, 3, 4, 5, 6, 7, 8, 9]\n",
      "[2, 4, 6, 8, 10, 12, 14, 16, 18]\n"
     ]
    }
   ],
   "source": [
    "n=[1,2,3,4,5,6,7,8,9]\n",
    "nl=list(map(lambda a:a*2,n))\n",
    "print(n)\n",
    "print(nl)\n"
   ]
  },
  {
   "cell_type": "code",
   "execution_count": null,
   "id": "b6ce37d3-2071-4548-ab5c-1eed082b6dfd",
   "metadata": {},
   "outputs": [],
   "source": []
  }
 ],
 "metadata": {
  "kernelspec": {
   "display_name": "Python 3 (ipykernel)",
   "language": "python",
   "name": "python3"
  },
  "language_info": {
   "codemirror_mode": {
    "name": "ipython",
    "version": 3
   },
   "file_extension": ".py",
   "mimetype": "text/x-python",
   "name": "python",
   "nbconvert_exporter": "python",
   "pygments_lexer": "ipython3",
   "version": "3.12.3"
  }
 },
 "nbformat": 4,
 "nbformat_minor": 5
}
