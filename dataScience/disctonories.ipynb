{
 "cells": [
  {
   "cell_type": "code",
   "execution_count": 4,
   "id": "12a6d4b5-2ceb-4d21-a71e-95e9855d3057",
   "metadata": {},
   "outputs": [
    {
     "name": "stdout",
     "output_type": "stream",
     "text": [
      "{'dept': 'MCA', 'year_adm': '2025', 'sem': ['first', 'second', 'third', 'forth']}\n",
      "{'dept': 'mba', 'year_adm': '2025', 'sem': ['first', 'second', 'third', 'forth']}\n"
     ]
    }
   ],
   "source": [
    "thisdict={\"dept\":\"MCA\",\n",
    "          \"year_adm\":\"2025\",\n",
    "          \"sem\":[\"first\",\"second\",\"third\",\"forth\"]}\n",
    "print(thisdict)\n",
    "\n",
    "thisdict[\"dept\"]=\"mba\"\n",
    "print(thisdict)"
   ]
  },
  {
   "cell_type": "code",
   "execution_count": 8,
   "id": "9e3821f7-ba13-41c3-8c75-6177745177bf",
   "metadata": {},
   "outputs": [
    {
     "name": "stdout",
     "output_type": "stream",
     "text": [
      "{'name': 'hardik', 'age': 46, 'country': 'INDIA'}\n",
      "{'name': 'hardik', 'age': 22, 'country': 'INDIA'}\n"
     ]
    }
   ],
   "source": [
    "thisdict=dict(name=\"hardik\",age=46,country=\"INDIA\")\n",
    "print(thisdict)\n",
    "thisdict[\"age\"]=22\n",
    "print(thisdict)"
   ]
  },
  {
   "cell_type": "code",
   "execution_count": 21,
   "id": "7a3e675f-d9e9-42a5-b274-079fbeca44e9",
   "metadata": {},
   "outputs": [
    {
     "name": "stdout",
     "output_type": "stream",
     "text": [
      "{'dogs': 'varun', 'cats': 'pussi'}\n",
      "{'dogs': 'varun', 'cats': 'pussi'}\n",
      "['varun', 'rajat', 'ritika', 'jamuna']\n",
      "['varun', 'anuj', 'ritika', 'jamuna']\n"
     ]
    }
   ],
   "source": [
    "    person={}\n",
    "type(person)\n",
    "person[\"child\"]=['varun','rajat','ritika','jamuna']\n",
    "person['pets']={'dogs':\"eva\",\"cats\":\"pussi\"}\n",
    "e=person['pets']\n",
    "e[\"dogs\"]=\"varun\"\n",
    "print(e)\n",
    "person[\"pets\"]=e\n",
    "print(e)\n",
    "p=person[\"child\"]\n",
    "print(p)\n",
    "p[1]=\"anuj\"\n",
    "person[\"child\"]=p\n",
    "print(person[\"child\"])"
   ]
  },
  {
   "cell_type": "code",
   "execution_count": null,
   "id": "b9838204-e37b-47b9-8b97-0702d97bb06e",
   "metadata": {},
   "outputs": [],
   "source": []
  }
 ],
 "metadata": {
  "kernelspec": {
   "display_name": "Python 3 (ipykernel)",
   "language": "python",
   "name": "python3"
  },
  "language_info": {
   "codemirror_mode": {
    "name": "ipython",
    "version": 3
   },
   "file_extension": ".py",
   "mimetype": "text/x-python",
   "name": "python",
   "nbconvert_exporter": "python",
   "pygments_lexer": "ipython3",
   "version": "3.12.3"
  }
 },
 "nbformat": 4,
 "nbformat_minor": 5
}
