{
 "cells": [
  {
   "cell_type": "code",
   "execution_count": 1,
   "id": "ab3cb69a-dab5-429f-8418-1aea35ff178f",
   "metadata": {},
   "outputs": [
    {
     "name": "stdout",
     "output_type": "stream",
     "text": [
      "hello pyhton\n"
     ]
    }
   ],
   "source": [
    "print(\"hello pyhton\")\n"
   ]
  },
  {
   "cell_type": "code",
   "execution_count": 4,
   "id": "92e342b9-e069-4665-a818-7ebe9e2d5050",
   "metadata": {},
   "outputs": [
    {
     "name": "stdout",
     "output_type": "stream",
     "text": [
      "hardikvarunrajatritikajamuna\n"
     ]
    }
   ],
   "source": [
    " c=list(\"hardik\" \"varun\" \"rajat\" \"ritika\" \"jamuna\")\n",
    "\n",
    "for n in c:\n",
    "    print(n)\n"
   ]
  },
  {
   "cell_type": "code",
   "execution_count": 5,
   "id": "bbc055d1-f3c5-4a28-8114-bb37cb5a384c",
   "metadata": {},
   "outputs": [
    {
     "name": "stdin",
     "output_type": "stream",
     "text": [
      "enter a number 23\n"
     ]
    },
    {
     "name": "stdout",
     "output_type": "stream",
     "text": [
      "your number is 23\n"
     ]
    }
   ],
   "source": [
    "a=input(\"enter a number\")\n",
    "print(\"your number is \"+a)"
   ]
  },
  {
   "cell_type": "code",
   "execution_count": 14,
   "id": "7034eaeb-03e2-47e2-901a-25d46c429a0c",
   "metadata": {},
   "outputs": [
    {
     "name": "stdout",
     "output_type": "stream",
     "text": [
      "(2, 3, 4)\n"
     ]
    }
   ],
   "source": [
    "tup=(1,2,3,4)\n",
    "print(tup[1:])"
   ]
  },
  {
   "cell_type": "code",
   "execution_count": null,
   "id": "7bd7a973-2e3b-4b82-b31e-2d76b52e1899",
   "metadata": {},
   "outputs": [],
   "source": []
  }
 ],
 "metadata": {
  "kernelspec": {
   "display_name": "Python 3 (ipykernel)",
   "language": "python",
   "name": "python3"
  },
  "language_info": {
   "codemirror_mode": {
    "name": "ipython",
    "version": 3
   },
   "file_extension": ".py",
   "mimetype": "text/x-python",
   "name": "python",
   "nbconvert_exporter": "python",
   "pygments_lexer": "ipython3",
   "version": "3.12.3"
  }
 },
 "nbformat": 4,
 "nbformat_minor": 5
}
